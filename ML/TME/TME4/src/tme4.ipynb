{
 "cells": [
  {
   "cell_type": "code",
   "execution_count": 36,
   "metadata": {},
   "outputs": [],
   "source": [
    "import numpy as np\n",
    "from tqdm import tqdm\n",
    "from icecream import ic\n",
    "import matplotlib.pyplot as plt\n",
    "from matplotlib import cm\n",
    "from mltools import plot_data, plot_frontiere, make_grid, gen_arti\n",
    "\n",
    "def descente_gradient(datax, datay, f_loss, f_grad, eps, iter=1000):\n",
    "    w_old = np.random.random(size=(datax.shape[1], 1))\n",
    "    # w_old = np.zeros(datax.shape[1])\n",
    "    w_list = [w_old]\n",
    "    loss_list = [f_loss(w_old, datax, datay).mean()]\n",
    "    for _ in tqdm(range(iter)):\n",
    "        w = w_old - eps * f_grad(w_old, datax, datay).mean(axis=0).reshape(-1, 1)\n",
    "        w_list.append(w)\n",
    "        loss_list.append(f_loss(w, datax, datay).mean())\n",
    "\n",
    "        if (np.abs((w - w_old)) < 1e-10).all():\n",
    "            print(f'Convergence en {len(w_list)} itération')\n",
    "            return w, w_list, loss_list\n",
    "            \n",
    "        w_old = w.copy()\n",
    "    else:\n",
    "        print(f\"Non convergence en {len(w_list)}\")\n",
    "        return w, w_list, loss_list"
   ]
  },
  {
   "cell_type": "code",
   "execution_count": 53,
   "metadata": {},
   "outputs": [],
   "source": [
    "def perceptron_loss(w, x, y):\n",
    "    preds = x @ w\n",
    "    return np.maximum(np.zeros_like(preds), - y * preds)\n",
    "\n",
    "def perceptron_grad(w, x, y):\n",
    "    n, d = x.shape\n",
    "    zero_loss = np.nonzero(perceptron_loss(w, x, y) == 0)[0]\n",
    "    grad = -y.reshape(n, 1) * x\n",
    "    grad[zero_loss] = np.zeros(d)\n",
    "    return grad\n",
    "\n",
    "# perceptron_loss = lambda w, X, y: np.maximum(0, -y * (X@w))\n",
    "# perceptron_grad = lambda w, X, y: ((-y * (X@w)) > 0) * (-y * X)\n",
    "\n",
    "class Lineaire(object):\n",
    "    def __init__(self, loss=perceptron_loss, loss_g=perceptron_grad, max_iter=100, eps=0.01):\n",
    "        self.max_iter, self.eps = max_iter, eps\n",
    "        self.w = None\n",
    "        self.loss, self.loss_g = loss, loss_g\n",
    "\n",
    "        self.w_list, self.loss_list = [], []\n",
    "\n",
    "    def fit(self, datax, datay):\n",
    "        self.w, self.w_list, self.loss_list = descente_gradient(\n",
    "            datax, datay, self.loss, self.loss_g, self.eps, self.max_iter)\n",
    "\n",
    "    def predict(self, datax):\n",
    "        return np.sign(datax @ self.w).flatten()\n",
    "\n",
    "    def score(self, datax, datay):\n",
    "        y_hat = self.predict(datax)\n",
    "        if datay.shape != y_hat.shape:\n",
    "            datay = datay.flatten()\n",
    "        return (np.where(datay == y_hat, 1, 0)/len(datay)).sum()\n",
    "\n",
    "\n",
    "def load_usps(fn):\n",
    "    with open(fn, \"r\") as f:\n",
    "        f.readline()\n",
    "        data = [[float(x) for x in l.split()] for l in f if len(l.split()) > 2]\n",
    "    tmp = np.array(data)\n",
    "    return tmp[:, 1:], tmp[:, 0].astype(int)\n",
    "\n",
    "\n",
    "def get_usps(l, datax, datay):\n",
    "    if type(l) != list:\n",
    "        resx = datax[datay == l, :]\n",
    "        resy = datay[datay == l]\n",
    "        return resx, resy\n",
    "    tmp = list(zip(*[get_usps(i, datax, datay) for i in l]))\n",
    "    tmpx, tmpy = np.vstack(tmp[0]), np.hstack(tmp[1])\n",
    "    return tmpx, tmpy\n",
    "\n",
    "\n",
    "def show_usps(data):\n",
    "    plt.imshow(data.reshape((16, 16)), interpolation=\"nearest\")\n"
   ]
  },
  {
   "cell_type": "code",
   "execution_count": 21,
   "metadata": {},
   "outputs": [
    {
     "name": "stderr",
     "output_type": "stream",
     "text": [
      "  0%|          | 0/2000 [00:00<?, ?it/s]"
     ]
    },
    {
     "name": "stdout",
     "output_type": "stream",
     "text": [
      "convergence\n"
     ]
    },
    {
     "name": "stderr",
     "output_type": "stream",
     "text": [
      "\n"
     ]
    },
    {
     "data": {
      "text/plain": [
       "1.0000000000000002"
      ]
     },
     "metadata": {},
     "output_type": "display_data"
    },
    {
     "name": "stdout",
     "output_type": "stream",
     "text": [
      "[0.0, 0.0]\n"
     ]
    },
    {
     "data": {
      "image/png": "[encoded data removed]",
      "text/plain": [
       "<Figure size 432x288 with 1 Axes>"
      ]
     },
     "metadata": {
      "needs_background": "light"
     },
     "output_type": "display_data"
    }
   ],
   "source": [
    "from mltools import *\n",
    "from sklearn.model_selection import train_test_split\n",
    "\n",
    "datax, datay = gen_arti(epsilon=0.3, data_type=0)\n",
    "indices = np.arange(len(datax))\n",
    "datax, testx, datay, testy = train_test_split(datax, datay)\n",
    "grid, x_grid, y_grid = make_grid(xmin=-2, xmax=2, ymin=-2, ymax=2, step=100)\n",
    "plt.figure()\n",
    "plot_data(datax,datay)\n",
    "\n",
    "lm = Lineaire(max_iter=2000)\n",
    "lm.fit(datax, datay)\n",
    "display(lm.score(datax, datay))\n",
    "\n",
    "plot_frontiere(datax, lambda x: np.sign(x.dot(lm.w)), step=100)\n",
    "plot_data(datax, datay)"
   ]
  },
  {
   "cell_type": "code",
   "execution_count": 81,
   "metadata": {},
   "outputs": [
    {
     "data": {
      "image/png": "[encoded data removed]",
      "text/plain": [
       "<Figure size 432x288 with 1 Axes>"
      ]
     },
     "metadata": {
      "needs_background": "light"
     },
     "output_type": "display_data"
    }
   ],
   "source": [
    "uspsdatatrain = \"../data/USPS_train.txt\"\n",
    "uspsdatatest = \"../data/USPS_test.txt\"\n",
    "alltrainx, alltrainy = load_usps(uspsdatatrain)\n",
    "alltestx, alltesty = load_usps(uspsdatatest)\n",
    "neg = 5\n",
    "pos = 6\n",
    "datax, datay = get_usps([neg, pos], alltrainx, alltrainy)\n",
    "testx, testy = get_usps([neg, pos], alltestx, alltesty)\n",
    "\n",
    "datay = np.where(datay==neg, 1, -1).reshape(-1, 1)\n",
    "testy = np.where(testy==neg, 1, -1).reshape(-1, 1)\n",
    "show_usps(datax[0])"
   ]
  },
  {
   "cell_type": "code",
   "execution_count": 85,
   "metadata": {},
   "outputs": [
    {
     "name": "stderr",
     "output_type": "stream",
     "text": [
      "100%|██████████| 150/150 [00:01<00:00, 141.30it/s]\n"
     ]
    },
    {
     "name": "stdout",
     "output_type": "stream",
     "text": [
      "Non convergence en 151\n"
     ]
    },
    {
     "data": {
      "text/plain": [
       "'Score en train 0.8213114754098361 ; Score en test 0.8393939393939392'"
      ]
     },
     "execution_count": 85,
     "metadata": {},
     "output_type": "execute_result"
    },
    {
     "data": {
      "image/png": "[encoded data removed]",
      "text/plain": [
       "<Figure size 432x288 with 1 Axes>"
      ]
     },
     "metadata": {
      "needs_background": "light"
     },
     "output_type": "display_data"
    }
   ],
   "source": [
    "lm = Lineaire(max_iter=150)\n",
    "lm.fit(datax, datay)\n",
    "show_usps(lm.w)\n",
    "f\"Score en train {lm.score(datax, datay)} ; Score en test {lm.score(testx, testy)}\""
   ]
  },
  {
   "cell_type": "code",
   "execution_count": 86,
   "metadata": {},
   "outputs": [
    {
     "name": "stderr",
     "output_type": "stream",
     "text": [
      "100%|██████████| 10000/10000 [00:20<00:00, 481.43it/s]"
     ]
    },
    {
     "name": "stdout",
     "output_type": "stream",
     "text": [
      "Non convergence en 10001\n"
     ]
    },
    {
     "name": "stderr",
     "output_type": "stream",
     "text": [
      "\n"
     ]
    },
    {
     "data": {
      "text/plain": [
       "'Score en train 0.9893442622950821 ; Score en test 0.9787878787878787'"
      ]
     },
     "execution_count": 86,
     "metadata": {},
     "output_type": "execute_result"
    },
    {
     "data": {
      "image/png": "[encoded data removed]",
      "text/plain": [
       "<Figure size 432x288 with 1 Axes>"
      ]
     },
     "metadata": {
      "needs_background": "light"
     },
     "output_type": "display_data"
    }
   ],
   "source": [
    "lm = Lineaire(max_iter=10000)\n",
    "lm.fit(datax, datay)\n",
    "show_usps(lm.w)\n",
    "f\"Score en train {lm.score(datax, datay)} ; Score en test {lm.score(testx, testy)}\""
   ]
  },
  {
   "attachments": {},
   "cell_type": "markdown",
   "metadata": {},
   "source": [
    "Quand on overfit les poids perdent leurs sens visuel mais on a des meilleurs score anyway"
   ]
  },
  {
   "cell_type": "code",
   "execution_count": 89,
   "metadata": {},
   "outputs": [
    {
     "name": "stderr",
     "output_type": "stream",
     "text": [
      "100%|██████████| 100/100 [00:00<00:00, 213.53it/s]"
     ]
    },
    {
     "name": "stdout",
     "output_type": "stream",
     "text": [
      "Non convergence en 101\n"
     ]
    },
    {
     "name": "stderr",
     "output_type": "stream",
     "text": [
      "\n"
     ]
    },
    {
     "data": {
      "text/plain": [
       "'Score en train 0.9066265060240963 ; Score en test 0.8529411764705881'"
      ]
     },
     "execution_count": 89,
     "metadata": {},
     "output_type": "execute_result"
    },
    {
     "data": {
      "image/png": "[encoded data removed]",
      "text/plain": [
       "<Figure size 432x288 with 1 Axes>"
      ]
     },
     "metadata": {
      "needs_background": "light"
     },
     "output_type": "display_data"
    }
   ],
   "source": [
    "datax, datay = get_usps(6, alltrainx, alltrainy)\n",
    "testx, testy = get_usps(6, alltestx, alltesty)\n",
    "datay = np.where(datay==6, -1, 1).reshape(-1, 1)\n",
    "testy = np.where(testy==6, -1, 1).reshape(-1, 1)\n",
    "lm = Lineaire(max_iter=100)\n",
    "lm.fit(datax, datay)\n",
    "show_usps(lm.w)\n",
    "f\"Score en train {lm.score(datax, datay)} ; Score en test {lm.score(testx, testy)}\""
   ]
  },
  {
   "cell_type": "code",
   "execution_count": null,
   "metadata": {},
   "outputs": [],
   "source": [
    "def descente_gradient_stoc(datax, datay, f_loss, f_grad, eps, iter=1000):\n",
    "    w_old = np.random.random(size=(datax.shape[1], 1))\n",
    "    # w_old = np.zeros(datax.shape[1])\n",
    "    w_list = [w_old]\n",
    "    loss_list = [f_loss(w_old, datax, datay).mean()]\n",
    "    for _ in tqdm(range(iter)):\n",
    "\n",
    "        i = np.random.randint(0, len(datax))\n",
    "        x_i = datax[i]\n",
    "        y_i = datay[i]\n",
    "\n",
    "        w = w_old - eps * f_grad(w_old, x_i, y_i).mean(axis=0).reshape(-1, 1)\n",
    "        w_list.append(w)\n",
    "        loss_list.append(f_loss(w, datax, datay).mean())\n",
    "\n",
    "        if (np.abs((w - w_old)) < 1e-10).all():\n",
    "            print(f'Convergence en {len(w_list)} itération')\n",
    "            return w, w_list, loss_list\n",
    "            \n",
    "        w_old = w.copy()\n",
    "    else:\n",
    "        print(f\"Non convergence en {len(w_list)}\")\n",
    "        return w, w_list, loss_list\n",
    "\n",
    "def descente_gradient_batch(datax, datay, f_loss, f_grad, eps, iter=1000, batch_size=100):\n",
    "    w_old = np.random.random(size=(datax.shape[1], 1))\n",
    "    # w_old = np.zeros(datax.shape[1])\n",
    "    w_list = [w_old]\n",
    "    loss_list = [f_loss(w_old, datax, datay).mean()]\n",
    "    for _ in tqdm(range(iter)):\n",
    "\n",
    "        i = np.random.randint(0, len(datax))\n",
    "        x_i = datax[i]\n",
    "        y_i = datay[i]\n",
    "\n",
    "        w = w_old - eps * f_grad(w_old, x_i, y_i).mean(axis=0).reshape(-1, 1)\n",
    "        w_list.append(w)\n",
    "        loss_list.append(f_loss(w, datax, datay).mean())\n",
    "\n",
    "        if (np.abs((w - w_old)) < 1e-10).all():\n",
    "            print(f'Convergence en {len(w_list)} itération')\n",
    "            return w, w_list, loss_list\n",
    "            \n",
    "        w_old = w.copy()\n",
    "    else:\n",
    "        print(f\"Non convergence en {len(w_list)}\")\n",
    "        return w, w_list, loss_list"
   ]
  }
 ],
 "metadata": {
  "kernelspec": {
   "display_name": "Python 3",
   "language": "python",
   "name": "python3"
  },
  "language_info": {
   "codemirror_mode": {
    "name": "ipython",
    "version": 3
   },
   "file_extension": ".py",
   "mimetype": "text/x-python",
   "name": "python",
   "nbconvert_exporter": "python",
   "pygments_lexer": "ipython3",
   "version": "3.8.10"
  },
  "orig_nbformat": 4,
  "vscode": {
   "interpreter": {
    "hash": "9e0ae0e97320857bbbf8ddb5dc55ef5d3da5d43c6f4a2d6fc804d21e04ae09f4"
   }
  }
 },
 "nbformat": 4,
 "nbformat_minor": 2
}
