{
 "cells": [
  {
   "cell_type": "markdown",
   "metadata": {},
   "source": [
    "# Data mining \\& clustering\n",
    "\n",
    "The goal if this practical is to adress the folowing problem: \n",
    "<center style=\"color:red\" >  Given XXX raw, unlabeled documents, ... How to exploit/understand/represent them?</center>\n",
    "\n",
    "In the previous week, we have seen how to represent textual data with the Bag of Words (BoW) model:\n",
    "$$X = \n",
    "\t\\begin{matrix} \n",
    "\t & \\textbf{t}_j \\\\\n",
    "\t & \\downarrow \\\\\n",
    "\t\\textbf{d}_i \\rightarrow &\n",
    "\t\\begin{pmatrix} \n",
    "\tx_{1,1} & \\dots & x_{1,d} \\\\\n",
    "\t\\vdots & \\ddots & \\vdots \\\\\n",
    "\tx_{N,1} & \\dots & x_{N,d} \\\\\n",
    "\t\\end{pmatrix}\n",
    "\t\\end{matrix}\n",
    "\t$$\n",
    "\n",
    "From this BoW representation, we want to answer the following questions:\n",
    "1. Which clustering algorithm to choose?\n",
    "    - K-means, LSA, pLSA, LDA\n",
    "1. What results to expect?\n",
    "    - Semantics, noise cleaning, etc...\n",
    "1. Which qualitative and quantitative analyses to understand the groups?\n",
    "[comment]: <> (%1. Comment boucler, itérer pour améliorer la qualité du processus?)\n",
    "\n",
    "\n",
    "<span style=\"color:magenta\" > In this practical, we use a **labeled dataset** in order to evaluate performances with quantitative and well-defined metrics. </span>\n"
   ]
  },
  {
   "cell_type": "code",
   "execution_count": 1,
   "metadata": {},
   "outputs": [],
   "source": [
    "import numpy as np\n",
    "import matplotlib.pyplot as plt\n",
    "\n",
    "import codecs\n",
    "import re\n",
    "import os.path\n",
    "import sklearn"
   ]
  },
  {
   "cell_type": "markdown",
   "metadata": {},
   "source": [
    "## Data loading\n",
    "\n"
   ]
  },
  {
   "cell_type": "code",
   "execution_count": 2,
   "metadata": {},
   "outputs": [],
   "source": [
    "from sklearn.datasets import fetch_20newsgroups\n",
    "newsgroups_train = fetch_20newsgroups(subset='train')"
   ]
  },
  {
   "cell_type": "code",
   "execution_count": 3,
   "metadata": {},
   "outputs": [
    {
     "name": "stdout",
     "output_type": "stream",
     "text": [
      "(11314, 1000)\n",
      "44.164928407283014\n"
     ]
    }
   ],
   "source": [
    "# conversion BoW + tf-idf\n",
    "from sklearn.feature_extraction.text import TfidfVectorizer\n",
    "#vectorizer = TfidfVectorizer() \n",
    "vectorizer = TfidfVectorizer(max_df=0.95, min_df=2, max_features=1000, stop_words='english')\n",
    "\n",
    "vectors = vectorizer.fit_transform(newsgroups_train.data)\n",
    "print(vectors.shape)\n",
    "\n",
    "# sparsity measure = 44 active words over 1000 per document (157 over 130000) !!\n",
    "print(vectors.nnz / float(vectors.shape[0]))"
   ]
  },
  {
   "cell_type": "code",
   "execution_count": 4,
   "metadata": {},
   "outputs": [
    {
     "name": "stdout",
     "output_type": "stream",
     "text": [
      "[(789, 'save'), (132, 'atheism'), (716, 'printer'), (954, 'virginia'), (571, 'ma'), (669, 'page'), (177, 'brian'), (362, 'event'), (326, 'division'), (654, 'oh')]\n"
     ]
    }
   ],
   "source": [
    "# retrieve words\n",
    "print([(i,vectorizer.get_feature_names_out()[i]) \\\n",
    "       for i in np.random.randint(vectors.shape[1], size=10)])"
   ]
  },
  {
   "cell_type": "code",
   "execution_count": 5,
   "metadata": {},
   "outputs": [
    {
     "name": "stdout",
     "output_type": "stream",
     "text": [
      "[ 7  4  4  1 14 16 13  3  2  4]\n",
      "['rec.autos', 'comp.sys.mac.hardware', 'comp.sys.mac.hardware', 'comp.graphics', 'sci.space', 'talk.politics.guns', 'sci.med', 'comp.sys.ibm.pc.hardware', 'comp.os.ms-windows.misc', 'comp.sys.mac.hardware', 'rec.motorcycles', 'talk.religion.misc', 'comp.sys.mac.hardware', 'sci.space', 'misc.forsale', 'alt.atheism', 'comp.graphics', 'rec.autos', 'sci.electronics', 'comp.windows.x']\n"
     ]
    }
   ],
   "source": [
    "# labels (only for evaluation)\n",
    "Y = newsgroups_train.target\n",
    "print(Y[:10]) \n",
    "print([newsgroups_train.target_names[i] for i in Y[:20]]) # vraie classe"
   ]
  },
  {
   "cell_type": "markdown",
   "metadata": {},
   "source": [
    "# 0) Word clouds \n",
    "### Drawing word clouds from the raw corpus or words' frequencies :  [make word clouds !](https://github.com/amueller/word_cloud)\n",
    "\n",
    "### Installation\n",
    "If you are using pip:\n",
    "\n",
    "`pip install wordcloud`\n",
    "\n",
    "### If you are using conda, you can install from the conda-forge channel:\n",
    "\n",
    "`conda install -c conda-forge wordcloud`"
   ]
  },
  {
   "cell_type": "markdown",
   "metadata": {},
   "source": [
    "### Let's look at the most frequent words in this dataset"
   ]
  },
  {
   "cell_type": "code",
   "execution_count": 6,
   "metadata": {},
   "outputs": [
    {
     "name": "stdout",
     "output_type": "stream",
     "text": [
      "Nb mots= 3252437\n"
     ]
    }
   ],
   "source": [
    "data = newsgroups_train.data\n",
    "corpus = \"\".join(data)\n",
    "words = corpus.split() # optional args to choose the splitting chars\n",
    "print(\"Nb mots=\",len(words))\n",
    "# Lets find the most frequence words "
   ]
  },
  {
   "cell_type": "code",
   "execution_count": 32,
   "metadata": {},
   "outputs": [
    {
     "data": {
      "text/plain": [
       "ýé                                                                           130106\n",
       "ñaustin                                                                      130105\n",
       "íålittin                                                                     130104\n",
       "ête                                                                          130103\n",
       "érale                                                                        130102\n",
       "élangea                                                                      130101\n",
       "égligent                                                                     130100\n",
       "ée                                                                           130099\n",
       "ère                                                                          130098\n",
       "çon                                                                          130097\n",
       "çait                                                                         130096\n",
       "ºnd                                                                          130095\n",
       "º_________________________________________________º_____________________º    130094\n",
       "³ation                                                                       130093\n",
       "ªl                                                                           130092\n",
       "zzzzzzt                                                                      130091\n",
       "zzzzzz                                                                       130090\n",
       "zzzz                                                                         130089\n",
       "zzzoh                                                                        130088\n",
       "zzz                                                                          130087\n",
       "dtype: int64"
      ]
     },
     "execution_count": 32,
     "metadata": {},
     "output_type": "execute_result"
    }
   ],
   "source": [
    "import pandas as pd\n",
    "vectorizer2 = TfidfVectorizer()\n",
    "vectorizer2.fit_transform(newsgroups_train.data)\n",
    "freq_dict = pd.Series(vectorizer2.vocabulary_)\n",
    "freq_dict.sort_values(ascending=False).head(20)"
   ]
  },
  {
   "cell_type": "markdown",
   "metadata": {},
   "source": [
    "### Plot the N frequent words and verify that its follows a Zipf law"
   ]
  },
  {
   "cell_type": "code",
   "execution_count": 33,
   "metadata": {},
   "outputs": [
    {
     "data": {
      "text/plain": [
       "[<matplotlib.lines.Line2D at 0x7fa7dd60a1c0>]"
      ]
     },
     "execution_count": 33,
     "metadata": {},
     "output_type": "execute_result"
    },
    {
     "data": {
      "image/png": "[encoded data removed]",
      "text/plain": [
       "<Figure size 432x288 with 1 Axes>"
      ]
     },
     "metadata": {
      "needs_background": "light"
     },
     "output_type": "display_data"
    }
   ],
   "source": [
    "# Your code here\n",
    "plt.plot(sorted(freq_dict.values))"
   ]
  },
  {
   "cell_type": "markdown",
   "metadata": {},
   "source": [
    "### Experiment word clouds"
   ]
  },
  {
   "cell_type": "code",
   "execution_count": 17,
   "metadata": {},
   "outputs": [
    {
     "ename": "NameError",
     "evalue": "name 'WordCloud' is not defined",
     "output_type": "error",
     "traceback": [
      "\u001b[0;31m---------------------------------------------------------------------------\u001b[0m",
      "\u001b[0;31mNameError\u001b[0m                                 Traceback (most recent call last)",
      "\u001b[1;32m/home/charles/M1-S2-DAC/RITAL/TAL/TME/TME2/2b-Clustering.ipynb Cell 15\u001b[0m in \u001b[0;36m<cell line: 1>\u001b[0;34m()\u001b[0m\n\u001b[0;32m----> <a href='vscode-notebook-cell://wsl%2Bubuntu/home/charles/M1-S2-DAC/RITAL/TAL/TME/TME2/2b-Clustering.ipynb#X16sdnNjb2RlLXJlbW90ZQ%3D%3D?line=0'>1</a>\u001b[0m wordcloud \u001b[39m=\u001b[39m WordCloud(background_color\u001b[39m=\u001b[39m\u001b[39m'\u001b[39m\u001b[39mwhite\u001b[39m\u001b[39m'\u001b[39m, stopwords \u001b[39m=\u001b[39m [], max_words\u001b[39m=\u001b[39m\u001b[39m100\u001b[39m)\u001b[39m.\u001b[39mgenerate(corpus)            \n\u001b[1;32m      <a href='vscode-notebook-cell://wsl%2Bubuntu/home/charles/M1-S2-DAC/RITAL/TAL/TME/TME2/2b-Clustering.ipynb#X16sdnNjb2RlLXJlbW90ZQ%3D%3D?line=2'>3</a>\u001b[0m plt\u001b[39m.\u001b[39mfigure()\n\u001b[1;32m      <a href='vscode-notebook-cell://wsl%2Bubuntu/home/charles/M1-S2-DAC/RITAL/TAL/TME/TME2/2b-Clustering.ipynb#X16sdnNjb2RlLXJlbW90ZQ%3D%3D?line=3'>4</a>\u001b[0m plt\u001b[39m.\u001b[39mimshow(wordcloud)\n",
      "\u001b[0;31mNameError\u001b[0m: name 'WordCloud' is not defined"
     ]
    }
   ],
   "source": [
    "wordcloud = WordCloud(background_color='white', stopwords = [], max_words=100).generate(corpus)            \n",
    "\n",
    "plt.figure()\n",
    "plt.imshow(wordcloud)\n",
    "plt.axis('off')"
   ]
  },
  {
   "cell_type": "code",
   "execution_count": null,
   "metadata": {},
   "outputs": [],
   "source": [
    "from wordcloud import STOPWORDS # Note: this is the default option           \n",
    "wordcloud = WordCloud(background_color='white', stopwords = STOPWORDS, max_words=100).generate(corpus) \n",
    "\n",
    "plt.figure()\n",
    "plt.imshow(wordcloud)\n",
    "plt.axis(\"off\")"
   ]
  },
  {
   "cell_type": "markdown",
   "metadata": {},
   "source": [
    "### Use word clouds with generate\\_from\\_frequencies. \n",
    "N.B.: retrieve the most words frequencies using a CountVectorizer"
   ]
  },
  {
   "cell_type": "code",
   "execution_count": null,
   "metadata": {},
   "outputs": [],
   "source": [
    "# Your code here"
   ]
  },
  {
   "cell_type": "markdown",
   "metadata": {},
   "source": [
    "### Drawing word clouds from classes\n"
   ]
  },
  {
   "cell_type": "code",
   "execution_count": null,
   "metadata": {},
   "outputs": [],
   "source": [
    "# Your code here\n"
   ]
  },
  {
   "cell_type": "markdown",
   "metadata": {},
   "source": [
    "# 1) Clustering algorithm: K-Means\n",
    "\n",
    "**Let's start by the most famous and simple unsupervised algorithm: $k$-means!**\n",
    "Look at [sklear documentation](https://scikit-learn.org/stable/modules/generated/sklearn.cluster.KMeans.html)\n",
    "and apply it to your BoW matrix.\n"
   ]
  },
  {
   "cell_type": "code",
   "execution_count": null,
   "metadata": {},
   "outputs": [],
   "source": [
    "from sklearn.cluster import KMeans\n",
    "# your code here\n",
    "kmeans = KMeans(n_clusters=20, random_state=0, max_iter=10).fit(vectors)\n",
    "# Getting clusters:\n",
    "kmeans.cluster_centers_"
   ]
  },
  {
   "cell_type": "markdown",
   "metadata": {},
   "source": [
    "### Clustering Analysis: \n",
    "1. **Qualtitative:**\n",
    "    - Look at the most important words for each cluster\n",
    "    - Perform cluster assignement to each document, and compute word cloud on the document (raw text or frequencies)\n",
    "2. **Quantitative:**\n",
    "    - Compute cluster \"purity\": $p_j= |y^*_j|$, where $y^*_j$ is the most frequent (GT) label in cluster $C_j$ $\\Rightarrow$ $p = \\frac{1}{N}\\sum\\limits_j  p_j$\n",
    "    - Compute [Rand Score](https://scikit-learn.org/stable/modules/generated/sklearn.metrics.rand_score.html) and [Adjusted Rand Score](https://scikit-learn.org/stable/modules/generated/sklearn.metrics.adjusted_rand_score.html#sklearn.metrics.adjusted_rand_score) "
   ]
  },
  {
   "cell_type": "markdown",
   "metadata": {},
   "source": [
    "# 2) Latent Semantic Analysis (LSA <=> SVD) \n"
   ]
  },
  {
   "cell_type": "markdown",
   "metadata": {},
   "source": [
    "**Remember the LSA factorziation**: \n",
    "$$ \n",
    "\\begin{matrix} \n",
    " & X  &\\!\\!\\!\\!\\!=\\!\\!\\!\\!\\!& U  & \\Sigma & V^T \\\\\n",
    "  & \\textbf{t}_j   &  & \\hat{ \\textbf{d}_i} & &  \\\\\n",
    " & \\downarrow  &  &\\downarrow  & & \\\\\n",
    "\\textbf{d}_i \\rightarrow \n",
    "&\n",
    "\\begin{pmatrix} \n",
    "x_{1,1} & \\dots & x_{1,d} \\\\\n",
    "\\\\\n",
    "\\vdots & \\ddots & \\vdots \\\\\n",
    "\\\\\n",
    "x_{N,1} & \\dots & x_{N,d} \\\\\n",
    "\\end{pmatrix}\n",
    "&\n",
    "\\!\\!\\!\\!\\!=\\!\\!\\!\\!\\!\n",
    "%&\n",
    "%(\\hat{ \\textbf{t}_j}) \\rightarrow\n",
    "&\n",
    "\\begin{pmatrix} \n",
    "\\begin{pmatrix} &  \\textbf{u}_1 &  \\end{pmatrix} \\\\\n",
    "\\vdots \\\\\n",
    "\\begin{pmatrix}  & \\textbf{u}_k &  \\end{pmatrix}\n",
    "\\end{pmatrix}\n",
    "%&\n",
    "%\\!\\!\\!\\!\\!\\cdot\\!\\!\\!\\!\\!\n",
    "&\n",
    "\\begin{pmatrix} \n",
    "\\sigma_1 & \\dots & 0 \\\\\n",
    "\\vdots & \\ddots & \\vdots \\\\\n",
    "0 & \\dots & \\sigma_k \\\\\n",
    "\\end{pmatrix}\n",
    "%&\n",
    "%\\!\\!\\!\\!\\!\\cdot\\!\\!\\!\\!\\!\n",
    "&\n",
    "\\begin{pmatrix} \n",
    "\\begin{pmatrix} \\, \\\\ \\, \\\\ \\textbf{v}_1 \\\\ \\, \\\\ \\,\\end{pmatrix} \n",
    "\\dots\n",
    "\\begin{pmatrix} \\, \\\\ \\, \\\\ \\textbf{v}_k \\\\ \\, \\\\ \\, \\end{pmatrix}\n",
    "\\end{pmatrix}\n",
    "\\end{matrix}\n",
    "$$"
   ]
  },
  {
   "cell_type": "markdown",
   "metadata": {},
   "source": [
    "- Look at [SVD doc in skelarn](https://scikit-learn.org/stable/modules/generated/sklearn.decomposition.TruncatedSVD.html#sklearn.decomposition.TruncatedSVD)\n",
    "- Do the same qualitative/quantitative evaluation than with K-Means\n",
    "- You can also use LSA as a pre-processing step for K-Means, *i.e.* running K-Means on $\\boldsymbol{U}$ matrix above\n",
    "    - N.B. : try without/with $\\ell_2$ normalization of $\\boldsymbol{U}$'s rows before running  K-Means\n",
    "    - You can also benefit from LSA pre-processing for using [t-SNE visualization](https://scikit-learn.org/stable/modules/generated/sklearn.manifold.TSNE.html) (see code below)\n"
   ]
  },
  {
   "cell_type": "code",
   "execution_count": null,
   "metadata": {},
   "outputs": [],
   "source": [
    "# t-SNE from the U matrix computed by LSA\n",
    "from sklearn.manifold import TSNE\n",
    "tsne = TSNE(n_components=2, init='pca',n_iter=5000, verbose=2)\n",
    "tsne_mat = tsne.fit_transform(U)"
   ]
  },
  {
   "cell_type": "code",
   "execution_count": null,
   "metadata": {},
   "outputs": [],
   "source": [
    "NN2cluster = np.argmax(np.abs(vectors_SVDn), axis=0)\n",
    "#import seaborn as sns\n",
    "import matplotlib.cm as cm\n",
    "cmap = cm.tab20\n",
    "cmap = cm.get_cmap('hsv', 20) \n",
    "cmap = cm.get_cmap('jet', 20)\n",
    "#cmap = cm.tab20\n",
    "\n",
    "plt.figure(figsize=(15,10))\n",
    "plt.scatter(tsne_mat[:,0],tsne_mat[:,1], c=Y, cmap=cmap, s=10)\n",
    "plt.scatter(tsne_mat[NN2cluster[:],0],tsne_mat[NN2cluster[:],1], c='black', s=100)\n",
    "#plt.scatter(tsne_mat[NN2cluster2[:],0],tsne_mat[NN2cluster2[:],1], c='red', s=100)\n",
    "plt.colorbar(ticks=range(20))"
   ]
  },
  {
   "cell_type": "markdown",
   "metadata": {},
   "source": [
    "# 3) Latent Dirichlet Allocation (LDA)"
   ]
  },
  {
   "cell_type": "markdown",
   "metadata": {},
   "source": [
    "Perform the same experiments with LDA:\n",
    "- LDA\n",
    "https://scikit-learn.org/stable/modules/generated/sklearn.decomposition.LatentDirichletAllocation.html\n"
   ]
  },
  {
   "cell_type": "markdown",
   "metadata": {},
   "source": [
    "**Start with a CountVectorizer**"
   ]
  },
  {
   "cell_type": "code",
   "execution_count": null,
   "metadata": {},
   "outputs": [],
   "source": [
    "from nltk.tokenize import RegexpTokenizer\n",
    "from sklearn.feature_extraction.text import CountVectorizer\n",
    "\n",
    "# Initialize regex tokenizer\n",
    "tokenizer = RegexpTokenizer(r'\\w+')\n",
    "\n",
    "# Vectorize document using TF-IDF\n",
    "vectorizer = CountVectorizer(lowercase=True,\n",
    "                        stop_words='english',\n",
    "                        ngram_range = (1,1),\n",
    "                        tokenizer = tokenizer.tokenize, max_df=0.95, min_df=2, max_features=1000)\n",
    "\n",
    "vectors = vectorizer.fit_transform(newsgroups_train.data)\n",
    "print(vectors.shape)\n",
    "print(vectors.nnz / float(vectors.shape[0]))\n",
    "\n"
   ]
  },
  {
   "cell_type": "markdown",
   "metadata": {},
   "source": [
    "## LDA-viz"
   ]
  },
  {
   "cell_type": "code",
   "execution_count": null,
   "metadata": {},
   "outputs": [],
   "source": [
    "# pip install install pyldavis\n",
    "from __future__ import print_function\n",
    "\n",
    "import pyLDAvis\n",
    "import pyLDAvis.sklearn\n",
    "pyLDAvis.enable_notebook()\n",
    "\n",
    "\n",
    "pyLDAvis.sklearn.prepare(lda,vectors,vectorizer)"
   ]
  },
  {
   "cell_type": "markdown",
   "metadata": {},
   "source": [
    "# Performances evaluation"
   ]
  },
  {
   "cell_type": "markdown",
   "metadata": {},
   "source": [
    "**Compare the different approaches wrt three quantitative metrics.**"
   ]
  }
 ],
 "metadata": {
  "kernelspec": {
   "display_name": "Python 3",
   "language": "python",
   "name": "python3"
  },
  "language_info": {
   "codemirror_mode": {
    "name": "ipython",
    "version": 3
   },
   "file_extension": ".py",
   "mimetype": "text/x-python",
   "name": "python",
   "nbconvert_exporter": "python",
   "pygments_lexer": "ipython3",
   "version": "3.8.10"
  },
  "vscode": {
   "interpreter": {
    "hash": "916dbcbb3f70747c44a77c7bcd40155683ae19c65e1c03b4aa3499c5328201f1"
   }
  }
 },
 "nbformat": 4,
 "nbformat_minor": 2
}
